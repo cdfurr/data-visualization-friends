{
 "cells": [
  {
   "cell_type": "markdown",
   "metadata": {
    "index": 0,
    "solution": false
   },
   "source": [
    "# 📒 Data Visualization - Code Out\n",
    "\n",
    "This notebook contains **11 tasks** centered around **data visualization** using **matplotlib**📊. \n",
    "\n",
    "Within the instructions, a saved image of the visualization is displayed. **Your goal is to create a visualization that mirrors the displayed image.**\n",
    "> *Please note:* When developing data visualizations, there are frequently judgment calls that must be made about about a number of visual settings. The provided tests in this notebook will assess many of the matplotlib settings that were used to generate the displayed visualization, but not every setting is tested. **For this notebook, and any future assessments, you should be sure to meet the required instructions *exactly*.** Outside of those settings you are free to customize your visualizations however you feel is best.\n",
    "\n",
    "This notebook requires you use `plt.subplots` and that you assign matplotlib figure and axis variables to specific variable names.\n",
    "\n",
    "**For example:**\n",
    "\n",
    "Given the following prompt:\n",
    "\n",
    "\n",
    "\n",
    ">➡️**name the figure variable `plot_first_fig`**\n",
    "\n",
    ">➡️ **name the axis variable `plot_first_ax`.**\n",
    "\n",
    "\n",
    "The correct code would be as followed:\n",
    "\n",
    "```python\n",
    "plot_first_fig, plot_first_ax = plt.subplots()\n",
    "```"
   ]
  },
  {
   "cell_type": "markdown",
   "metadata": {
    "ExecuteTime": {
     "end_time": "2021-05-31T23:21:45.541649Z",
     "start_time": "2021-05-31T23:21:45.539654Z"
    },
    "index": 1,
    "solution": false
   },
   "source": [
    "## Task 1 - Import pandas using the standard alias."
   ]
  },
  {
   "cell_type": "code",
   "execution_count": 1,
   "metadata": {
    "ExecuteTime": {
     "end_time": "2021-06-01T05:55:19.472128Z",
     "start_time": "2021-06-01T05:55:19.469806Z"
    },
    "index": 2,
    "solution": false
   },
   "outputs": [],
   "source": [
    "# Your code here\n",
    "import pandas as pd"
   ]
  },
  {
   "cell_type": "markdown",
   "metadata": {
    "index": 4,
    "solution": false
   },
   "source": [
    "## Task 2 - Import the pyplot module from matplotlib using the standard `plt` alias."
   ]
  },
  {
   "cell_type": "code",
   "execution_count": 2,
   "metadata": {
    "ExecuteTime": {
     "end_time": "2021-06-01T05:55:19.952943Z",
     "start_time": "2021-06-01T05:55:19.950868Z"
    },
    "index": 5,
    "solution": false
   },
   "outputs": [],
   "source": [
    "# Your code here\n",
    "import matplotlib.pyplot as plt"
   ]
  },
  {
   "cell_type": "markdown",
   "metadata": {
    "index": 7,
    "solution": false
   },
   "source": [
    "## Task 3 - Load a csv file\n",
    "\n",
    "A dataset called `friends_info.csv` containing information about the tv show [Friends](https://en.wikipedia.org/wiki/Friends) is saved inside the `data/` folder of this repository.\n",
    "\n",
    "In the cell below:\n",
    "- import the `friends_info` dataset using pandas\n",
    "- save the resulting pandas dataframe to the variable `df`."
   ]
  },
  {
   "cell_type": "code",
   "execution_count": 3,
   "metadata": {
    "ExecuteTime": {
     "end_time": "2021-06-01T05:55:20.134704Z",
     "start_time": "2021-06-01T05:55:20.132940Z"
    },
    "index": 8,
    "solution": false
   },
   "outputs": [],
   "source": [
    "# Your code here\n",
    "df=pd.read_csv('data/friends_info.csv')"
   ]
  },
  {
   "cell_type": "markdown",
   "metadata": {
    "index": 10,
    "solution": false
   },
   "source": [
    "## Task 4 - Drop all rows that contain null values"
   ]
  },
  {
   "cell_type": "code",
   "execution_count": 4,
   "metadata": {
    "ExecuteTime": {
     "end_time": "2021-06-01T05:55:20.146703Z",
     "start_time": "2021-06-01T05:55:20.144801Z"
    },
    "index": 11,
    "solution": false
   },
   "outputs": [
    {
     "data": {
      "text/html": [
       "<div>\n",
       "<style scoped>\n",
       "    .dataframe tbody tr th:only-of-type {\n",
       "        vertical-align: middle;\n",
       "    }\n",
       "\n",
       "    .dataframe tbody tr th {\n",
       "        vertical-align: top;\n",
       "    }\n",
       "\n",
       "    .dataframe thead th {\n",
       "        text-align: right;\n",
       "    }\n",
       "</style>\n",
       "<table border=\"1\" class=\"dataframe\">\n",
       "  <thead>\n",
       "    <tr style=\"text-align: right;\">\n",
       "      <th></th>\n",
       "      <th>Season</th>\n",
       "      <th>Episode</th>\n",
       "      <th>Month</th>\n",
       "      <th>Day</th>\n",
       "      <th>Year</th>\n",
       "      <th>Title</th>\n",
       "      <th>Directed By</th>\n",
       "      <th>Written By</th>\n",
       "      <th>Duration</th>\n",
       "      <th>Summary</th>\n",
       "      <th>U.S. Viewers</th>\n",
       "      <th>Rating</th>\n",
       "    </tr>\n",
       "  </thead>\n",
       "  <tbody>\n",
       "    <tr>\n",
       "      <th>0</th>\n",
       "      <td>1</td>\n",
       "      <td>1</td>\n",
       "      <td>9</td>\n",
       "      <td>22</td>\n",
       "      <td>1994</td>\n",
       "      <td>The Pilot</td>\n",
       "      <td>James Burrows</td>\n",
       "      <td>David Crane &amp; Marta Kauffman</td>\n",
       "      <td>22.0</td>\n",
       "      <td>Monica and the gang introduce Rachel to the \"r...</td>\n",
       "      <td>21500000.0</td>\n",
       "      <td>0.639130</td>\n",
       "    </tr>\n",
       "    <tr>\n",
       "      <th>1</th>\n",
       "      <td>1</td>\n",
       "      <td>2</td>\n",
       "      <td>9</td>\n",
       "      <td>29</td>\n",
       "      <td>1994</td>\n",
       "      <td>The One with the Sonogram at the End</td>\n",
       "      <td>James Burrows</td>\n",
       "      <td>David Crane &amp; Marta Kauffman</td>\n",
       "      <td>22.0</td>\n",
       "      <td>Ross finds out his ex-wife is pregnant. Rachel...</td>\n",
       "      <td>20200000.0</td>\n",
       "      <td>0.636364</td>\n",
       "    </tr>\n",
       "    <tr>\n",
       "      <th>2</th>\n",
       "      <td>1</td>\n",
       "      <td>3</td>\n",
       "      <td>10</td>\n",
       "      <td>6</td>\n",
       "      <td>1994</td>\n",
       "      <td>The One with the Thumb</td>\n",
       "      <td>James Burrows</td>\n",
       "      <td>Jeffrey Astrof &amp; Mike Sikowitz</td>\n",
       "      <td>22.0</td>\n",
       "      <td>Monica becomes irritated when everyone likes h...</td>\n",
       "      <td>19500000.0</td>\n",
       "      <td>0.618182</td>\n",
       "    </tr>\n",
       "    <tr>\n",
       "      <th>3</th>\n",
       "      <td>1</td>\n",
       "      <td>4</td>\n",
       "      <td>10</td>\n",
       "      <td>13</td>\n",
       "      <td>1994</td>\n",
       "      <td>The One with George Stephanopoulos</td>\n",
       "      <td>James Burrows</td>\n",
       "      <td>Alexa Junge</td>\n",
       "      <td>22.0</td>\n",
       "      <td>Joey and Chandler take Ross to a hockey game t...</td>\n",
       "      <td>19700000.0</td>\n",
       "      <td>0.622727</td>\n",
       "    </tr>\n",
       "    <tr>\n",
       "      <th>4</th>\n",
       "      <td>1</td>\n",
       "      <td>5</td>\n",
       "      <td>10</td>\n",
       "      <td>20</td>\n",
       "      <td>1994</td>\n",
       "      <td>The One with the East German Laundry Detergent</td>\n",
       "      <td>Pamela Fryman</td>\n",
       "      <td>Jeff Greenstein &amp; Jeff Strauss</td>\n",
       "      <td>22.0</td>\n",
       "      <td>Eager to spend time with Rachel, Ross pretends...</td>\n",
       "      <td>18600000.0</td>\n",
       "      <td>0.645000</td>\n",
       "    </tr>\n",
       "    <tr>\n",
       "      <th>...</th>\n",
       "      <td>...</td>\n",
       "      <td>...</td>\n",
       "      <td>...</td>\n",
       "      <td>...</td>\n",
       "      <td>...</td>\n",
       "      <td>...</td>\n",
       "      <td>...</td>\n",
       "      <td>...</td>\n",
       "      <td>...</td>\n",
       "      <td>...</td>\n",
       "      <td>...</td>\n",
       "      <td>...</td>\n",
       "    </tr>\n",
       "    <tr>\n",
       "      <th>222</th>\n",
       "      <td>10</td>\n",
       "      <td>13</td>\n",
       "      <td>2</td>\n",
       "      <td>19</td>\n",
       "      <td>2004</td>\n",
       "      <td>The One Where Joey Speaks French</td>\n",
       "      <td>Gary Halvorson</td>\n",
       "      <td>Sherry Bilsing-Graham &amp; Ellen Plummer</td>\n",
       "      <td>22.0</td>\n",
       "      <td>Phoebe tries to teach Joey to speak French for...</td>\n",
       "      <td>24270000.0</td>\n",
       "      <td>0.633333</td>\n",
       "    </tr>\n",
       "    <tr>\n",
       "      <th>223</th>\n",
       "      <td>10</td>\n",
       "      <td>14</td>\n",
       "      <td>2</td>\n",
       "      <td>26</td>\n",
       "      <td>2004</td>\n",
       "      <td>The One with Princess Consuela</td>\n",
       "      <td>Gary Halvorson</td>\n",
       "      <td>Story by : Robert Carlock\\r\\nTeleplay by : Tra...</td>\n",
       "      <td>22.0</td>\n",
       "      <td>When Phoebe goes to get her name changed she r...</td>\n",
       "      <td>22830000.0</td>\n",
       "      <td>0.663636</td>\n",
       "    </tr>\n",
       "    <tr>\n",
       "      <th>224</th>\n",
       "      <td>10</td>\n",
       "      <td>15</td>\n",
       "      <td>4</td>\n",
       "      <td>22</td>\n",
       "      <td>2004</td>\n",
       "      <td>The One Where Estelle Dies</td>\n",
       "      <td>Gary Halvorson</td>\n",
       "      <td>Story by : Mark Kunerth\\r\\nTeleplay by : David...</td>\n",
       "      <td>22.0</td>\n",
       "      <td>Ross tries to get Rachel to go back to Ralph L...</td>\n",
       "      <td>22640000.0</td>\n",
       "      <td>0.600000</td>\n",
       "    </tr>\n",
       "    <tr>\n",
       "      <th>225</th>\n",
       "      <td>10</td>\n",
       "      <td>16</td>\n",
       "      <td>4</td>\n",
       "      <td>29</td>\n",
       "      <td>2004</td>\n",
       "      <td>The One with Rachel's Going Away Party</td>\n",
       "      <td>Gary Halvorson</td>\n",
       "      <td>Andrew Reich &amp; Ted Cohen</td>\n",
       "      <td>22.0</td>\n",
       "      <td>The gang throws Rachel a goodbye party, during...</td>\n",
       "      <td>24510000.0</td>\n",
       "      <td>0.620000</td>\n",
       "    </tr>\n",
       "    <tr>\n",
       "      <th>226</th>\n",
       "      <td>10</td>\n",
       "      <td>18</td>\n",
       "      <td>5</td>\n",
       "      <td>6</td>\n",
       "      <td>2004</td>\n",
       "      <td>The Last One</td>\n",
       "      <td>Kevin S. Bright</td>\n",
       "      <td>Marta Kauffman &amp; David Crane</td>\n",
       "      <td>60.0</td>\n",
       "      <td>Erica gives birth to the baby that Monica and ...</td>\n",
       "      <td>52460000.0</td>\n",
       "      <td>0.693023</td>\n",
       "    </tr>\n",
       "  </tbody>\n",
       "</table>\n",
       "<p>227 rows × 12 columns</p>\n",
       "</div>"
      ],
      "text/plain": [
       "     Season  Episode  Month  Day  Year  \\\n",
       "0         1        1      9   22  1994   \n",
       "1         1        2      9   29  1994   \n",
       "2         1        3     10    6  1994   \n",
       "3         1        4     10   13  1994   \n",
       "4         1        5     10   20  1994   \n",
       "..      ...      ...    ...  ...   ...   \n",
       "222      10       13      2   19  2004   \n",
       "223      10       14      2   26  2004   \n",
       "224      10       15      4   22  2004   \n",
       "225      10       16      4   29  2004   \n",
       "226      10       18      5    6  2004   \n",
       "\n",
       "                                              Title      Directed By  \\\n",
       "0                                         The Pilot    James Burrows   \n",
       "1              The One with the Sonogram at the End    James Burrows   \n",
       "2                            The One with the Thumb    James Burrows   \n",
       "3                The One with George Stephanopoulos    James Burrows   \n",
       "4    The One with the East German Laundry Detergent    Pamela Fryman   \n",
       "..                                              ...              ...   \n",
       "222                The One Where Joey Speaks French   Gary Halvorson   \n",
       "223                  The One with Princess Consuela   Gary Halvorson   \n",
       "224                      The One Where Estelle Dies   Gary Halvorson   \n",
       "225          The One with Rachel's Going Away Party   Gary Halvorson   \n",
       "226                                    The Last One  Kevin S. Bright   \n",
       "\n",
       "                                            Written By  Duration  \\\n",
       "0                         David Crane & Marta Kauffman      22.0   \n",
       "1                         David Crane & Marta Kauffman      22.0   \n",
       "2                       Jeffrey Astrof & Mike Sikowitz      22.0   \n",
       "3                                          Alexa Junge      22.0   \n",
       "4                       Jeff Greenstein & Jeff Strauss      22.0   \n",
       "..                                                 ...       ...   \n",
       "222              Sherry Bilsing-Graham & Ellen Plummer      22.0   \n",
       "223  Story by : Robert Carlock\\r\\nTeleplay by : Tra...      22.0   \n",
       "224  Story by : Mark Kunerth\\r\\nTeleplay by : David...      22.0   \n",
       "225                           Andrew Reich & Ted Cohen      22.0   \n",
       "226                       Marta Kauffman & David Crane      60.0   \n",
       "\n",
       "                                               Summary  U.S. Viewers    Rating  \n",
       "0    Monica and the gang introduce Rachel to the \"r...    21500000.0  0.639130  \n",
       "1    Ross finds out his ex-wife is pregnant. Rachel...    20200000.0  0.636364  \n",
       "2    Monica becomes irritated when everyone likes h...    19500000.0  0.618182  \n",
       "3    Joey and Chandler take Ross to a hockey game t...    19700000.0  0.622727  \n",
       "4    Eager to spend time with Rachel, Ross pretends...    18600000.0  0.645000  \n",
       "..                                                 ...           ...       ...  \n",
       "222  Phoebe tries to teach Joey to speak French for...    24270000.0  0.633333  \n",
       "223  When Phoebe goes to get her name changed she r...    22830000.0  0.663636  \n",
       "224  Ross tries to get Rachel to go back to Ralph L...    22640000.0  0.600000  \n",
       "225  The gang throws Rachel a goodbye party, during...    24510000.0  0.620000  \n",
       "226  Erica gives birth to the baby that Monica and ...    52460000.0  0.693023  \n",
       "\n",
       "[227 rows x 12 columns]"
      ]
     },
     "execution_count": 4,
     "metadata": {},
     "output_type": "execute_result"
    }
   ],
   "source": [
    "# Your code here\n",
    "df.dropna()"
   ]
  },
  {
   "cell_type": "code",
   "execution_count": 37,
   "metadata": {},
   "outputs": [],
   "source": [
    "seasonnum = df.Season.value_counts().index.astype(str)"
   ]
  },
  {
   "cell_type": "code",
   "execution_count": 38,
   "metadata": {},
   "outputs": [],
   "source": [
    "epidnum = df.Season.value_counts().values"
   ]
  },
  {
   "cell_type": "code",
   "execution_count": 39,
   "metadata": {},
   "outputs": [
    {
     "data": {
      "text/plain": [
       "Text(0, 0.5, 'Episode Count')"
      ]
     },
     "execution_count": 39,
     "metadata": {},
     "output_type": "execute_result"
    },
    {
     "data": {
      "image/png": "[encoded data removed]",
      "text/plain": [
       "<Figure size 1080x432 with 1 Axes>"
      ]
     },
     "metadata": {
      "needs_background": "light"
     },
     "output_type": "display_data"
    }
   ],
   "source": [
    "plot_one_fig, plot_one_ax = plt.subplots(figsize=(15, 6))\n",
    "\n",
    "plot_one_ax.bar(x= seasonnum, height=epidnum)\n",
    "# plt.xticks(seasonnum, fontsize=20)\n",
    "plot_one_ax.set_title('Episodes per Season', fontsize=30)\n",
    "plot_one_ax.set_xlabel('Season', fontsize=15)\n",
    "plot_one_ax.set_ylabel('Episode Count', fontsize=15)\n"
   ]
  },
  {
   "cell_type": "markdown",
   "metadata": {
    "index": 13,
    "solution": false
   },
   "source": [
    "## Task 5 - Using `plt.subplots` create a bar plot that visualizes the total number of episodes produced for each season. \n",
    "\n",
    "➡️ **name the figure variable `plot_one_fig`**\n",
    "\n",
    "➡️ **name the axis variable `plot_one_ax`.**\n",
    "\n",
    "\n",
    "This visualization should include the following customizations:\n",
    "1. A figsize of (15, 6)\n",
    "2. A title set to `'Episodes per Season'` with a fontsize of 30.\n",
    "3. xtick labels with a fontsize of 20.\n",
    "4. An xaxis label set to `'Season'` with a fontsize of 15.\n",
    "5. A yaxis label set to `'Episode Count'` with a fontsize of 15.\n",
    "\n",
    "\n",
    "**Below is an example of what your visualization should look like:**\n",
    "\n",
    "![](static/episodes_per_season.png)"
   ]
  },
  {
   "cell_type": "code",
   "execution_count": 69,
   "metadata": {},
   "outputs": [],
   "source": [
    "films = df['Directed By'].value_counts().values[0:10]\n"
   ]
  },
  {
   "cell_type": "code",
   "execution_count": 68,
   "metadata": {},
   "outputs": [],
   "source": [
    "direc = df['Directed By'].value_counts().index[0:10]"
   ]
  },
  {
   "cell_type": "code",
   "execution_count": 73,
   "metadata": {},
   "outputs": [
    {
     "data": {
      "text/plain": [
       "['Gary\\nHalvorson',\n",
       " 'Kevin\\nS.\\nBright',\n",
       " 'Michael\\nLembeck',\n",
       " 'James\\nBurrows',\n",
       " 'Gail\\nMancuso',\n",
       " 'Peter\\nBonerz',\n",
       " 'David\\nSchwimmer',\n",
       " 'Ben\\nWeiss',\n",
       " 'Shelley\\nJensen',\n",
       " 'Robby\\nBenson']"
      ]
     },
     "execution_count": 73,
     "metadata": {},
     "output_type": "execute_result"
    }
   ],
   "source": [
    "[tic.replace(' ', '\\n') for tic in direc] "
   ]
  },
  {
   "cell_type": "code",
   "execution_count": 76,
   "metadata": {},
   "outputs": [
    {
     "name": "stderr",
     "output_type": "stream",
     "text": [
      "<ipython-input-76-19d0e243c6e2>:7: UserWarning: FixedFormatter should only be used together with FixedLocator\n",
      "  plot_two_ax.set_xticklabels([tic.replace(' ', '\\n') for tic in direc])\n"
     ]
    },
    {
     "data": {
      "text/plain": [
       "[Text(0, 0, 'Gary\\nHalvorson'),\n",
       " Text(1, 0, 'Kevin\\nS.\\nBright'),\n",
       " Text(2, 0, 'Michael\\nLembeck'),\n",
       " Text(3, 0, 'James\\nBurrows'),\n",
       " Text(4, 0, 'Gail\\nMancuso'),\n",
       " Text(5, 0, 'Peter\\nBonerz'),\n",
       " Text(6, 0, 'David\\nSchwimmer'),\n",
       " Text(7, 0, 'Ben\\nWeiss'),\n",
       " Text(8, 0, 'Shelley\\nJensen'),\n",
       " Text(9, 0, 'Robby\\nBenson')]"
      ]
     },
     "execution_count": 76,
     "metadata": {},
     "output_type": "execute_result"
    },
    {
     "data": {
      "image/png": "[encoded data removed]",
      "text/plain": [
       "<Figure size 1080x432 with 1 Axes>"
      ]
     },
     "metadata": {
      "needs_background": "light"
     },
     "output_type": "display_data"
    }
   ],
   "source": [
    "plot_two_fig, plot_two_ax = plt.subplots(figsize= (15, 6))\n",
    "\n",
    "plot_two_ax.bar(x= direc, height=films)\n",
    "plot_two_ax.set_title('Top Ten Directors - Frequency', fontsize=35)\n",
    "plot_two_ax.set_xlabel('Directors', fontsize=15)\n",
    "plot_two_ax.set_ylabel('Number of films directed', fontsize=15)\n",
    "plot_two_ax.set_xticklabels([tic.replace(' ', '\\n') for tic in direc])\n"
   ]
  },
  {
   "cell_type": "markdown",
   "metadata": {
    "index": 16,
    "solution": false
   },
   "source": [
    "## Task 6 - Using `plt.subplots` visualize the number of episodes produced by the ten most frequent directors.\n",
    "\n",
    "➡️ **name the figure variable `plot_two_fig`**\n",
    "\n",
    "➡️ **name the axis variable `plot_two_ax`.**\n",
    "\n",
    "This visualization should include the following customizations:\n",
    "\n",
    "1. A title set to `'Top Ten Directors - Frequency'` with a fontsize of 35.\n",
    "2. An xlabel set to `'Directors'` with a fontsize of 15.\n",
    "3. A ylabel set to `'Number of films directed'` with a fontsize of 15.\n",
    "4. For each xtick label, the spaces `' '` should replace with `'\\n'`.\n",
    "\n",
    "**Below is an example of what your visualization should look like:**\n",
    "\n",
    "![](static/director_frequency.png)"
   ]
  },
  {
   "cell_type": "code",
   "execution_count": null,
   "metadata": {},
   "outputs": [],
   "source": []
  },
  {
   "cell_type": "code",
   "execution_count": null,
   "metadata": {},
   "outputs": [],
   "source": []
  },
  {
   "cell_type": "code",
   "execution_count": 88,
   "metadata": {},
   "outputs": [
    {
     "data": {
      "text/html": [
       "<div>\n",
       "<style scoped>\n",
       "    .dataframe tbody tr th:only-of-type {\n",
       "        vertical-align: middle;\n",
       "    }\n",
       "\n",
       "    .dataframe tbody tr th {\n",
       "        vertical-align: top;\n",
       "    }\n",
       "\n",
       "    .dataframe thead th {\n",
       "        text-align: right;\n",
       "    }\n",
       "</style>\n",
       "<table border=\"1\" class=\"dataframe\">\n",
       "  <thead>\n",
       "    <tr style=\"text-align: right;\">\n",
       "      <th></th>\n",
       "      <th>Season</th>\n",
       "      <th>Episode</th>\n",
       "      <th>Month</th>\n",
       "      <th>Day</th>\n",
       "      <th>Year</th>\n",
       "      <th>Title</th>\n",
       "      <th>Directed By</th>\n",
       "      <th>Written By</th>\n",
       "      <th>Duration</th>\n",
       "      <th>Summary</th>\n",
       "      <th>U.S. Viewers</th>\n",
       "      <th>Rating</th>\n",
       "    </tr>\n",
       "  </thead>\n",
       "  <tbody>\n",
       "    <tr>\n",
       "      <th>0</th>\n",
       "      <td>1</td>\n",
       "      <td>1</td>\n",
       "      <td>9</td>\n",
       "      <td>22</td>\n",
       "      <td>1994</td>\n",
       "      <td>The Pilot</td>\n",
       "      <td>James Burrows</td>\n",
       "      <td>David Crane &amp; Marta Kauffman</td>\n",
       "      <td>22.0</td>\n",
       "      <td>Monica and the gang introduce Rachel to the \"r...</td>\n",
       "      <td>21500000.0</td>\n",
       "      <td>0.63913</td>\n",
       "    </tr>\n",
       "  </tbody>\n",
       "</table>\n",
       "</div>"
      ],
      "text/plain": [
       "   Season  Episode  Month  Day  Year      Title    Directed By  \\\n",
       "0       1        1      9   22  1994  The Pilot  James Burrows   \n",
       "\n",
       "                     Written By  Duration  \\\n",
       "0  David Crane & Marta Kauffman      22.0   \n",
       "\n",
       "                                             Summary  U.S. Viewers   Rating  \n",
       "0  Monica and the gang introduce Rachel to the \"r...    21500000.0  0.63913  "
      ]
     },
     "execution_count": 88,
     "metadata": {},
     "output_type": "execute_result"
    }
   ],
   "source": [
    "df.head(1)"
   ]
  },
  {
   "cell_type": "markdown",
   "metadata": {
    "index": 19,
    "solution": false
   },
   "source": [
    "## Task 7 - Plot a histogram for the `Rating` column.\n",
    "\n",
    "➡️ **name the figure variable `plot_three_fig`**\n",
    "\n",
    "➡️ **name the axis variable `plot_three_ax`.**\n",
    "\n",
    "This visualization should include the following customizations:\n",
    "1. The figsize should be set to (10,5)\n",
    "2. The title should be set to `'Episode Ratings - Distribution'`\n",
    "3. The xlabel should be set to `'Rating'`\n",
    "4. The ylabel should be set to `'Frequency'`\n",
    "5. The color should be set to `'red'`\n",
    "6. The alpha should be set to `.6`\n",
    "\n",
    "Below is an example of what your visualization should look like:\n",
    "\n",
    "![](static/ratings_distribution.png)"
   ]
  },
  {
   "cell_type": "code",
   "execution_count": null,
   "metadata": {
    "ExecuteTime": {
     "end_time": "2021-06-01T05:55:20.761970Z",
     "start_time": "2021-06-01T05:55:20.626275Z"
    },
    "index": 20,
    "solution": false
   },
   "outputs": [],
   "source": [
    "# Your code here"
   ]
  },
  {
   "cell_type": "markdown",
   "metadata": {
    "index": 22,
    "solution": false
   },
   "source": [
    "## Task 8 - Visualize the average episode duration per year. \n",
    "> Because this is a time based visualization, a line plot is typically best.\n",
    "\n",
    "➡️ **name the figure variable `plot_four_fig`**\n",
    "\n",
    "➡️ **name the axis variable `plot_four_ax`.**\n",
    "\n",
    "This visualization should include the following customizations:\n",
    "1. The linewidth should be set to `5`.\n",
    "2. The linestyle should be set to `--`.\n",
    "3. The color should be set to `'green'`.\n",
    "4. The title should be set to `'Average Duration - Per Year'`\n",
    "5. The xlabel should be set to `'Year'`.\n",
    "6. The ylabel should be set to `'Average Duration'`\n",
    "\n",
    "**Hint:** You will need to use a groupby for this problem!\n",
    "\n",
    "Below is an example of what your visualization should look like:\n",
    "\n",
    " \n",
    "![](static/yearly_duration.png)"
   ]
  },
  {
   "cell_type": "code",
   "execution_count": null,
   "metadata": {
    "ExecuteTime": {
     "end_time": "2021-06-01T05:55:20.984766Z",
     "start_time": "2021-06-01T05:55:20.982544Z"
    },
    "index": 23,
    "solution": false
   },
   "outputs": [],
   "source": [
    "# Your code here"
   ]
  },
  {
   "cell_type": "markdown",
   "metadata": {
    "index": 25,
    "solution": false
   },
   "source": [
    "## Task 9 - Import Seaborn using the standard `sns` alias."
   ]
  },
  {
   "cell_type": "code",
   "execution_count": null,
   "metadata": {
    "ExecuteTime": {
     "end_time": "2021-06-01T05:55:21.154953Z",
     "start_time": "2021-06-01T05:55:21.153120Z"
    },
    "index": 26,
    "solution": false
   },
   "outputs": [],
   "source": [
    "# Your code here"
   ]
  },
  {
   "cell_type": "markdown",
   "metadata": {
    "index": 28,
    "solution": false
   },
   "source": [
    "## Task 10 - Using seaborn's [`boxplot`](https://seaborn.pydata.org/generated/seaborn.boxplot.html), visualize the box plots for each season's Duration. \n",
    "\n",
    "➡️ **name the figure variable `plot_five_fig`**\n",
    "\n",
    "➡️ **name the axis variable `plot_five_ax`.**\n",
    "\n",
    "The visualization should have the following customizations:\n",
    "1. A title set to `'Episode Duration - Grouped by Season'`\n",
    "2. An xlabel set to `'Season'`\n",
    "3. A ylabel set to `'Rating'`\n",
    "\n",
    "Below is an example of what your visualization should look like:\n",
    "\n",
    "![](static/season_duration_boxplot.png)"
   ]
  },
  {
   "cell_type": "code",
   "execution_count": null,
   "metadata": {
    "ExecuteTime": {
     "end_time": "2021-06-01T05:55:21.417555Z",
     "start_time": "2021-06-01T05:55:21.415860Z"
    },
    "index": 29,
    "solution": false
   },
   "outputs": [],
   "source": [
    "# Your code here"
   ]
  },
  {
   "cell_type": "markdown",
   "metadata": {
    "index": 31,
    "solution": false
   },
   "source": [
    "## Task 11 - Create a scatter plot\n",
    "\n",
    "In the cell below, plot the relationship between U.S. Viewers and ratings.\n",
    "\n",
    "➡️ **name the figure variable `plot_six_fig`**\n",
    "\n",
    "➡️ **name the axis variable `plot_six_ax`.**\n",
    "\n",
    "This visualization should have the following customizations:\n",
    "1. A title set to `'U.S. Viewers vs Ratings'`\n",
    "2. An xlabel set to `'U.S. Viewers'`\n",
    "3. A ylabel set to `'Ratings'`\n",
    "\n",
    "Below is an example of what your visualization should look like:\n",
    "\n",
    "![](static/viewers_vs_ratings.png)"
   ]
  },
  {
   "cell_type": "code",
   "execution_count": null,
   "metadata": {
    "index": 32,
    "solution": false
   },
   "outputs": [],
   "source": [
    "# Your code here"
   ]
  }
 ],
 "metadata": {
  "kernelspec": {
   "display_name": "Python 3",
   "language": "python",
   "name": "python3"
  },
  "language_info": {
   "codemirror_mode": {
    "name": "ipython",
    "version": 3
   },
   "file_extension": ".py",
   "mimetype": "text/x-python",
   "name": "python",
   "nbconvert_exporter": "python",
   "pygments_lexer": "ipython3",
   "version": "3.8.5"
  },
  "toc": {
   "base_numbering": 1,
   "nav_menu": {},
   "number_sections": false,
   "sideBar": true,
   "skip_h1_title": true,
   "title_cell": "Table of Contents",
   "title_sidebar": "Contents",
   "toc_cell": false,
   "toc_position": {},
   "toc_section_display": true,
   "toc_window_display": false
  },
  "varInspector": {
   "cols": {
    "lenName": 16,
    "lenType": 16,
    "lenVar": 40
   },
   "kernels_config": {
    "python": {
     "delete_cmd_postfix": "",
     "delete_cmd_prefix": "del ",
     "library": "var_list.py",
     "varRefreshCmd": "print(var_dic_list())"
    },
    "r": {
     "delete_cmd_postfix": ") ",
     "delete_cmd_prefix": "rm(",
     "library": "var_list.r",
     "varRefreshCmd": "cat(var_dic_list()) "
    }
   },
   "types_to_exclude": [
    "module",
    "function",
    "builtin_function_or_method",
    "instance",
    "_Feature"
   ],
   "window_display": false
  }
 },
 "nbformat": 4,
 "nbformat_minor": 5
}
